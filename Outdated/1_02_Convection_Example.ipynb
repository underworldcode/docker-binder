{
 "cells": [
  {
   "cell_type": "markdown",
   "metadata": {},
   "source": [
    "Convection example\n",
    "======\n",
    "\n",
    "\n",
    "This notebook is intended to give a quick overview of how to run underworld using ipython notebooks. It is the beginning of a series of tutorials which will increase in functionality. By the end of these tutorials the user should be able to tackle the more complex notebooks available in the **publications** directory.\n",
    "\n",
    "**This lesson introduces the concepts of:**\n",
    "1. Underworld basics.\n",
    "2. Setting up material parameters and functions.\n",
    "3. Setting up and solving a Stokes system.\n",
    "4. Setting up and solving advective diffusive systems.\n",
    "5. plotting fields.\n",
    "\n",
    "**Keywords:** material parameters, Stokes system, advective diffusive systems"
   ]
  },
  {
   "cell_type": "code",
   "execution_count": 1,
   "metadata": {
    "collapsed": false
   },
   "outputs": [],
   "source": [
    "import underworld as uw\n",
    "import math\n",
    "from underworld import function as fn\n",
    "import glucifer"
   ]
  },
  {
   "cell_type": "markdown",
   "metadata": {},
   "source": [
    "Setup parameters\n",
    "-----\n",
    "\n",
    "Set physical values for test."
   ]
  },
  {
   "cell_type": "code",
   "execution_count": 2,
   "metadata": {
    "collapsed": false
   },
   "outputs": [],
   "source": [
    "# Set number of dimensions.\n",
    "dim = 2\n",
    "# Set simulation box size.\n",
    "boxHeight = 1.0\n",
    "boxLength = 2.0\n",
    "# Set min/max temperatures.\n",
    "tempMin = 0.0\n",
    "tempMax = 1.0\n",
    "# Set the resolution.\n",
    "res = 16"
   ]
  },
  {
   "cell_type": "markdown",
   "metadata": {},
   "source": [
    "Create mesh and finite element variables\n",
    "------\n",
    "\n",
    "Create mesh object. "
   ]
  },
  {
   "cell_type": "code",
   "execution_count": 3,
   "metadata": {
    "collapsed": false
   },
   "outputs": [],
   "source": [
    "mesh = uw.mesh.FeMesh_Cartesian( elementType = (\"Q1/dQ0\"), \n",
    "                                 elementRes  = (res, res), \n",
    "                                 minCoord    = (0., 0.), \n",
    "                                 maxCoord    = (boxLength, boxHeight))"
   ]
  },
  {
   "cell_type": "markdown",
   "metadata": {},
   "source": [
    "The mesh object consists of two meshes, the type of which is defined here as ``\"Q1/dQ0\"``. The primary mesh (``Q1``) has node points on the corners of the cell and is stored in the ``mesh`` object data, while the sub-mesh (``dQ0``) has nodes inside the cell and is accessed via the ``mesh.subMesh`` object. The sub-mesh is used for the pressure field. For more information on meshes see the user guide **02_Meshing.ipynb**."
   ]
  },
  {
   "cell_type": "markdown",
   "metadata": {},
   "source": [
    "Create finite element variables for the velocity, pressure and temperature fields. The last two of these are scalar fields needing only one value at each mesh point, while the velocity field contains a vector of *dim* dimensions at each mesh point."
   ]
  },
  {
   "cell_type": "code",
   "execution_count": 4,
   "metadata": {
    "collapsed": false
   },
   "outputs": [],
   "source": [
    "velocityField    = uw.fevariable.FeVariable( feMesh=mesh,         nodeDofCount=dim )\n",
    "pressureField    = uw.fevariable.FeVariable( feMesh=mesh.subMesh, nodeDofCount=1 )\n",
    "temperatureField = uw.fevariable.FeVariable( feMesh=mesh,         nodeDofCount=1 )\n",
    "temperatureDotField = uw.fevariable.FeVariable( feMesh=mesh,      nodeDofCount=1 )"
   ]
  },
  {
   "cell_type": "markdown",
   "metadata": {},
   "source": [
    "Set up material parameters and functions\n",
    "-----\n",
    "\n",
    "Here the functions for density, viscosity etc. are set. These functions and/or values are preserved for the entire simulation time. More details on setting functions in underworld is found in the user guide **05_Functions.ipynb**.\n",
    "\n",
    "Notes:\n",
    "1. Temperature must be in the range [0,1] for use with the density function defined using the Rayleigh number.\n",
    "2. $\\hat{z}$ (*z_hat*) denotes the positive vertical direction. \n",
    "3. The density ($\\rho$) should be negatively proportional to the temperature field so that high temperature has low density.\n",
    "4. The constant of proportionality in this case is the Rayleigh number, which is set low here to speed up the system.\n",
    "4. Both $\\hat{z}$ and $\\rho$ are combined to define the buoyancy function which is used to set up the Stokes system."
   ]
  },
  {
   "cell_type": "code",
   "execution_count": 5,
   "metadata": {
    "collapsed": false
   },
   "outputs": [],
   "source": [
    "# Set viscosity to be a constant.\n",
    "viscosity = 1.\n",
    "\n",
    "# Rayleigh number.\n",
    "Ra = 1.0e4\n",
    "\n",
    "# Construct our density function.\n",
    "densityFn = -Ra * temperatureField\n",
    "\n",
    "# Define our vertical unit vector using a python tuple (this will be automatically converted to a function).\n",
    "z_hat = ( 0.0, 1.0 )\n",
    "\n",
    "# Now create a buoyancy force vector using the density and the vertical unit vector. \n",
    "buoyancyFn = densityFn * z_hat"
   ]
  },
  {
   "cell_type": "markdown",
   "metadata": {},
   "source": [
    "By setting the system up in this way we only need to create these functions once at the beginning of the simulation and not each timestep."
   ]
  },
  {
   "cell_type": "markdown",
   "metadata": {},
   "source": [
    "Set initial conditions and boundary conditions\n",
    "----------"
   ]
  },
  {
   "cell_type": "markdown",
   "metadata": {},
   "source": [
    "**Initial conditions**\n",
    "\n",
    "First initialise the velocity and pressure fields to zero everywhere in the domain."
   ]
  },
  {
   "cell_type": "code",
   "execution_count": 6,
   "metadata": {
    "collapsed": false
   },
   "outputs": [],
   "source": [
    "velocityField.data[:] = [0.,0.]\n",
    "pressureField.data[:] = 0.\n",
    "temperatureDotField.data[:] = 0."
   ]
  },
  {
   "cell_type": "markdown",
   "metadata": {},
   "source": [
    "Set a small perturbation in the temperature field to seed the onset of convection."
   ]
  },
  {
   "cell_type": "code",
   "execution_count": 7,
   "metadata": {
    "collapsed": true
   },
   "outputs": [],
   "source": [
    "pertStrength = 0.01\n",
    "deltaTemp = tempMax - tempMin\n",
    "for index, coord in enumerate(mesh.data):\n",
    "    pertCoeff = math.cos( math.pi * coord[0]/boxLength ) * math.sin( math.pi * coord[1]/boxLength )\n",
    "    temperatureField.data[index] = tempMin + deltaTemp*(boxHeight - coord[1]) + pertStrength * pertCoeff\n",
    "    temperatureField.data[index] = max(tempMin, min(tempMax, temperatureField.data[index]))"
   ]
  },
  {
   "cell_type": "markdown",
   "metadata": {},
   "source": [
    "**Boundary conditions**\n",
    "\n",
    "This step is to ensure that the temperature boundary conditions are satisfied, as the initial conditions above may have been set to different values on the boundaries."
   ]
  },
  {
   "cell_type": "code",
   "execution_count": 8,
   "metadata": {
    "collapsed": false
   },
   "outputs": [],
   "source": [
    "for index in mesh.specialSets[\"MinJ_VertexSet\"]:\n",
    "    temperatureField.data[index] = tempMax\n",
    "for index in mesh.specialSets[\"MaxJ_VertexSet\"]:\n",
    "    temperatureField.data[index] = tempMin"
   ]
  },
  {
   "cell_type": "markdown",
   "metadata": {},
   "source": [
    "**Conditions on the boundaries**\n",
    "\n",
    "Construct sets for the both horizontal and vertical walls. Combine the sets of vertices to make the ``I`` (left and right side walls) and ``J`` (top and bottom walls) sets. Note that both sets contain the corners of the box."
   ]
  },
  {
   "cell_type": "code",
   "execution_count": 9,
   "metadata": {
    "collapsed": false
   },
   "outputs": [],
   "source": [
    "iWalls = mesh.specialSets[\"MinI_VertexSet\"] + mesh.specialSets[\"MaxI_VertexSet\"]\n",
    "jWalls = mesh.specialSets[\"MinJ_VertexSet\"] + mesh.specialSets[\"MaxJ_VertexSet\"]"
   ]
  },
  {
   "cell_type": "markdown",
   "metadata": {},
   "source": [
    "Let's create the boundary conditions.\n",
    "\n",
    "For (2d) vector variables, we may flag up two Dirichlet conditions on each vertex.. for velocity it's a condition for $v_x$ and one for $v_y$. We provide a tuple of sets specifying which degrees of freedom (Set($v_x$), Set($v_y$)) should be considered Dirichlet.\n",
    "\n",
    "The temperature is held constant on the top and bottom boundaries via the tempBC object created below."
   ]
  },
  {
   "cell_type": "code",
   "execution_count": 10,
   "metadata": {
    "collapsed": true
   },
   "outputs": [],
   "source": [
    "freeslipBC = uw.conditions.DirichletCondition( variable      = velocityField, \n",
    "                                               nodeIndexSets = (iWalls, jWalls) )\n",
    "tempBC     = uw.conditions.DirichletCondition( variable      = temperatureField, \n",
    "                                               nodeIndexSets = (jWalls,) )"
   ]
  },
  {
   "cell_type": "markdown",
   "metadata": {},
   "source": [
    "More information on setting boundary conditions is found in the **06_Systems.ipynb** user guide."
   ]
  },
  {
   "cell_type": "markdown",
   "metadata": {},
   "source": [
    "**Plot initial conditions for temperature**\n"
   ]
  },
  {
   "cell_type": "code",
   "execution_count": 11,
   "metadata": {
    "collapsed": false,
    "scrolled": false
   },
   "outputs": [
    {
     "data": {
      "text/html": [
       "<img src='data:image/png;base64,iVBORw0KGgoAAAANSUhEUgAAAyAAAAGQCAIAAADZR5NjAAAgAElEQVR42u2dab4tt1XFSy/Po4A8txkFcW+YBHFvGATgNsAgwL3DKHAXOzCJuIsNo7D9ig+XXF+fpo5KzW7/65cPJLx7lrSlUi2t2toq67ouAAAAAABgHG4RAgAAAAAABBYAAAAAAAILAAAAAACBBQAAAAAAEFgAAAAAAAgsAAAAAAAEFgAAAAAAQGABAAAAACCwAAAAAAAQWAAAAAAAAIEFAAAAAIDAAgAAAABAYAEAAAAAILAAAAAAAAACCwAAAAAAgQUAAAAAgMACAAAAAAAILAAAAAAABBYAAAAAAAILAAAAAAAgsAAAAAAAEFgAAAAAAAgsAAAAAACAwAIAAAAAQGABAAAAACCwAAAAAAAQWAAAAAAAAIEFAAAAAIDAAgAAAABAYAEAAAAAgJ247br1pRSGEAAAAAiJdV0RWLoya1Ua+KJFnZyd4MMuyPizxWZZFKc97LAnZHeMGAJLa61fFB20zOwEH3bJ5eVaYxF52GHX294gsDIJLF3q5OwEH3Z5jcWLFnbYEVgILN40CCzYYR+vsYg87LCDRALr1q2M1MnZCT7swnvoUpYff9TsO+wyA43EQWAhsBBYCKz47OcWfZZ7eTocrNjsBwNN5BFYCCzl4eepo/sqLCh7Mdx0sIh8VPabourkQ0fkQVKBhYOV86nL1v2L7wCk7VQ6HKzA7Dd/HAfL2l4agYXAgp3uz1VXN5c5Jp6WqCXy20IkwGseB8vaUo/AQmDB7rIBzS8JLR9FMvhkgB0bGzgZG8HJ03fYAQILiROH/XgFH/LYN/9IBokzMANs4AtYa7m/drAUa/OYfdFuZ4gjMmBHYHkFSe4Z2I/pxkqcvS+GVEnuB8Fp6PvAcKnsK26muis+dzb3VDLZgexmc7IjsJSBg5WNfcbHmr2/5k7iDAxOZ987TQ6tQqPsqc6xC9hXRD4tOwILgQW7grRK0v2TatJp34coY93zmyFnXaUwujhwU9/EApHfiAMCCyCwkDim2fs3uHZO0jk90zTEY2jue80fXmyhyl2EsV91lRZU+Nf8Rto+AgskFVjkYHlh1/2oF0DdHhS91Ara1PObF1uIg6UlnVOdXbXgGfc/7wgsBJbLV53x1dY+e//7wE73xY6VXa90AUpUNLtZOFjb/y/v5/jO2Ug5rxhHYCGwEFiw736v9z+0FrqvVRtpiLq1XKJio4U4WNst9H6O71xfMt/cwClCBBYCKy/7rk3zqBdAf/d79vpXvZgtrSZ9LunMhRLOhjloDw7W9v8exsFKngUVPvMPgeUD5GCpsze3pF/iaAXwWN7NeLEJ1MFq0HAqJSrGfh716yUoHgI42XcxPZf5FCEOlldxsiqWJR7wBCKtAQAAgJhwLVEiOFgPPaQzAF98UbSobbJLPghfflkefHAd9ADv/pOvvioPPCDX24MWfv11uf/+VYV6WZZvvin33ac28b75ptx7rwL7VRy+/bbcuaPW95vs8i+d774rv/zlOuoJ2ov/+Z/yl3+5Ck/1a/zv/5a/+Au1cU/O7lqckIMlRC35/UgGx+zCHwpHdb8tIUnrymFh9po0c+GXvYXzm1qb6nPHymTaU5MB5ne52z6GSTYISCqwXORgzWhkmJI8bcGZ0f36hCSt4F+10FRVHuEHUP385rqqrTnnMv9k2lMz6+a1Z+qcv3gMk/NMIKnA8nWKcODezn5JnqnBmdH9ejdLK/gH1wRJWik1aeYC7Tl5flPSytKiXuq8TN1ThPOCM/WJu9hsHCyAwLJOPXbvG2xbszc4WqfJ7NyEqGWlbJwmE2jPSRdHLA7HHyglh2B71s1uT5Ll7mSzcbBAUoHlqEzDWGsn2LZm795XtzJNzYH52S1RdHEkrYuL7JJx2K5OMnsItuf87Dh0Lned7cmcd4iDhcBCYPHMi+ot9UVH/v1qVuLU/JtR7bnIPjUOjiTO8CEIX962vvFDri1HYCGwHCBVJfeNZEyVXGOxXhs37YW/Fl3s+9SvZg2fihalCv7D47Dr4PDwIdC9nypVedtKdhlFyCdCBFZGfa3+lWr2zslI308aA5Z3tLqfihZVF2d2Y3pcnP44NB8cHjIEzXN+SGMGPnENDpD9S4oaBKX9d9yCg5VcYHEXoZh1YaHv1x20XKVi9hDsLcCm5eLMCE6Pi6NyxfjAIRgy55vjIJlmvmhclTNp1i2WvEN37AgsZXAXYefW0FffLxYLUDfwBNwspz7KkPa4c3EGDsGQh665PVoppwYda4E/vFiaK8lrDoGlDBysvTrDzmZ6xmNP0cXh1sWMoW8OTj97z7h0sncOwdiHbm8cKIzS35e29Q0HC4GVUV9b3ljMtrLUtzX1Ekdr6K0VXRzVHu8+Sk8cxp6kk7nzYFRjLKScql9SpPILOFgIrIz62u/Got9cUd/WUHRRa/R1a8wOP8umUt62bQjmPXQ1Q6D7yJ+s/RZ7qb9WkzhYCKyM+trvxqI/M0B9W+O66OJ2bGdPPFM+yt72TD3LJubitA3BvIeupj26j7x9x3oeaVthlBivOQSWaScjsLQfu5me/cwrdt9gRaLOhWysi2PKR7kYh0nslZbSpCvGK4dA4KHbiIOd5a6hjJb3pV7xnlYcrNQCCwdL5Xd074pZolQkapO881ycmuCI+SiLYAX/yjgIXDGuW818YwjsLHfChdQXk/dGzNg/G+w7AsuNkxFvW+P0mVfsvqmTdM0tnOfi1ARHZuKds1JkXJxzcZjNvj0Ewo/8wRB4We6s1X5TXOuGxAEHK7XAwsGy8MzLu1kBTtI1tzCei1PfGHkXR7IiUc3nUa0rL89VNrb2vM/wtzwu9QKXU+l+xEBg2VX3abc1w9m1ygAGO0m3y88Q8FE2gqNSD0nLRzkYAk7S1cxP48udqbxDp+wWqr/aR1k9S9DC8AIAAABB4VqiRHCwnnpKZwA+/LBoUZtlF3sWPvqoPPnkOu4Z3vfvP/64PPGEaPBvtvCTT8rjj68q1MuyfPppeewxtYn36afl0Ud12Nd1+eyz8sgjan0/YBd+73z+eXn44XXUE7QXf/hD+fWvV4HpfRL/9V/lr/5Kbdzts88b/f/+b98eCp8Ie6kV5XXmmxCXuCfpaugkJ95xT3Mm/x1f2KKbdyhw5WX9uDdUFDOy3JnKO3S01NtpHgIrrMDSPUnn9GCLQOpl547Wzkk6axPv6vWTOfnvZpq5nbxDmVyoynGfFJxseYewI7BMwI7EEd7RBjjYYvAyRBc7Wi0f5cDFUbFvryMvb+EsZ9LM1U/SybSncs5Paozw+c2DZuNgAQSWMnVbSwxWChBjV7x2t5OFT0W6Eqfmf5/Rnpov4+oXtpiSOKPSBtQ/ys9ezxFYCCyLcF2mocfbj+QbK16729N9PhU1D9/UiTevPRfZpw5B2510lj/K17fQ/nKnOOuivmERWPpwXWhU5cJmg2Fv2OZa6D6fis79L7ouzrw47E341b2wZWxjBK4JWjynmc874oODhcDKqK/H1r5jW7NrhbXWfVNFF6daStvss92sBhdnYGP8XtjSHwfSzIcvYsmXegSWA8S4Kqfhp4TvzRALe1uiiXr3Jd2shoPTYi7O7Dh4cXFmDMFAw7uhMaSZj/339UOAg4XAyqiv1TcWkq6Jkb5fr0qWd3Wzx2VX34dbKbtcHDvH9YfEIca1u23jIvnEHbcwmIuzawhwsBBYGfW1+sZCsrCnkb4f30mnWyxgklswMPjDG9Ps4gyJQ/PEG2IpxbhivK09ko/8Mde5oxVOl/q2Az0G1zoQXGBx2bOYdWFqW3NdzVzl+XdadHGIpaRbY3bIxGsel2AHh3fFwc5yJ//gGzmzbHmtAzEFVmYHS2DLbnZbc2zgGdzRThqCUS6O5JkmUy5Oc2OGHxzWrf22a37aWe4kT63a6bu1M8sghcDCwZq6ZTe7rTkuo298RztwCIb4KIvSmabOOITJhrFW++1ie2wudzJulqm+Cxt4OFipBRYO1qh/bLCQen0DhLd3Dd03dU2Qoo/SGYfZLs52ewJfMX7xx23ebW/qmiCVtW6IsLa81COwLO5swkv7wJvp2Dva/hYOL6OvMvRtcZhdgG27PVwxbna5C5xyOm/WVQprkFdg4WDF20zH3tFaq0i0tz2TzrKpT7yaOHDF+NTHqmfcA6ecZp51CCyjTkZs6uSb6aX6djDjO1pTFYkUd7TW7qQ7Ny5UM1+UjrNlTjkVYN8YUxys1AILB0vlZ806WA1bNMXgm6pIVOkBCNxJp36W7Vx7hKuZn3zVqV/eoHKcLXPKqQC72cMNCCwHTkY8ai12I4XUQ+5o640BmR3tuYgJuDh2lvuDOHB5w9THSmzOa+Ud8qJJhbIqHgsZILr5OAwAAADEhGuJEsHBeuklnQF4882iRW2EXXHmv/VWefHFtfWJ7WV/++3ywgsTO7/dwnfeKc8/Lxr6m+15993y3HOrCvWyLO+9V559Vm3avfdeeeYZNfb33z9kl3wAP/igPP30OvWx2sDvfld+85tV/lm7wn/8R/nbv1Ub9+TsrsUJOVheqRd7NyEK662Bd9I1LLvCFYkO2iM89FPL8OwNBSfpzv1X3dpvs+9FzZxympkdgaUMsS/Ex6sDT53kCqsocdSHXlHiXHzihHVGZT0kgYGwdmGLqSvGh7fQ1JxvfmUgsBBYziA2/DUXvIdUlg3sAiVVJIW1naG/Cqypa3eF19+LJ+mmtsdFeVtrV4zXP1b2lzsVUUiSOwIr0fCLndn2u60RcLO0hLXwRWAnG9O23M8IiPxn4pMX3071D2pmnanytpMaE6O8bWdr25rhZa0zyI7ASiSwrJ3Zdso+RKNoCesDiaMYfK0T+yf7LqY7612cGY1xd2HLwDhkvrClc7lzt9bZYUdgKUMx5bZ+5klupu2HfcgOW777NxktXHyrdcjgZOTFGmPcxbF2YYupK8YHDqjf5a7hBYGDhcDKqK+Nb6ZdhL05OFx8u9cDEBv6qdba3nEfGxzX5W07x4W8w3m9U7li3MVKi8BShv0yDS5SIrTYm4OT+STdxUOFYifpJCd827iPDU7PhS39ceic853tIe9Q5pc5ro7AMgRHV+Uobqbth31vcDhJJzDH+iM/PDi6yX/N7EPiMNA2boiDhWuCtN73YleMLxxXR2CZgqNCo1OP4XgPe+UPGjzCqXWSboZLMXzoTbk4/Y0ZVd5WN++wLSvIWmXjRTvvUIwlcxUuBJYyuOw5Cbv9I5ycpGvYnWtNvLbgDGG3n3doqvbbSXZreYem2CN9KkFgKSPtVTmmbu2QZzRo4IntsD0m/40Kjm7y3xB2+3mHpmq/1Tz+ujX0rS22Y4ODg5VaYCV3sLTWPvVtjfE9JfWQJgVnxrjXB2d4NfPFfN7hdXDMPnECSZBU4QJJBVbyy56tlbRWWXQMGnimTtItxuohWbuTrr498mmUNxuj8tAdfJTXKv9Wn3c4Yw2MXYVrxnYOLDhYGbY1IatwLa4MPE7SDQzO1Il3MTjC0/4gOOq13xSlRs/5zWWhlrocu9YNEwgsc+reL/UytAKy5HGqqcu9zVNFnKQb2J6pE+9iY4Snvam8w5oXrXoF/0kLINfOOno1ILCCqHuPR0tGPRIGc7Akd06cpBsOa3fSmTpJZ62a+bnFxE4F/11rYOCbEBXZ+VCIg8XGovGRMOJg7bIf1Id+VAsDnKRrbkzOk3TWqpnLp37OOL9Z32wcLHfNRmAhsMyxa2X7zui+tTTzgS3McO3uueAgcZZFp+RmkmIBJ4kqTw3zogE/C93q2cUrjDwAAAAQFK4lSgQH67e/1RmAl18uWtQq7Dfn+SuvlDfe0Jz3nQ3ofGZffbW8/voqFu0DvPZaee01teDfZJdf+l5/vbz6qtqS+8Yb5ZVX1uHTqXqhKy+/vM6e2+fwz/9c/umfVoHpfRL/8i/lH/9Rbc7vZR87BP/6r+Uf/kGt7+rsrsUJSe5eqYXZjxN+nRYatZZmXhltaxNPMSHp5J10WrPO2oUtU895DEwzd3eqpp59xhBw2TMCSw3kYKlwnTzEZ7/7o5JzJYsFbEgcrYmnVR3jnMTRmnXCuVB78w6bp/e8OR8+zXzGEJCDhcDKqK85u6uyj5/a/coNqHrJR1MujmRjDiaenVkn8BR0zrrOFsrM+XNjGmOxbRsCHCwEVkZ9zdndky2RMRWSFAuolDiKE0/x2l35iVd/YYvB+6k6/bacp0fHsrcNAQ4WAiujvsbBqt+Auuv+9l7TSPBNeYcyjTnJLhaHMPdTNURM/pqg5egmxEiLbf0Q4GAhsJSHX73yHuzCpsLs7m/vNY0E35R3KNOYk+zWZt2k9gycdQ0t1L0maENYO11s638zcxUuBJYyFK8gxcEau0U22/3jvlgLvqSVVXkn3aTGbLNbm3Vj24OPojLhLS+29jP/EFi+oZiPgoMlv4lX6f7Fa3nUg2/tmqB57dlmn32sL141cy+XN9jJ/DO12AqcY8XBQmBN3zf72tZYY49UG8batbsy0e4Z+rFr9K6KRMNfDz3j3j8uAnmHGy207OKoZP5ZW2wnuVk4WKkF1t4rSMWeecVtje6mqu0fe6kNY+3a3R5PQmXoxVwca7Ouvz3CeYcHjXHk4gxfkF0stgIf5T3fW4PA8qavXRxoss/utDaMYjVzp3Wlh0Rs7MSzM+tqgpP58obY3qF9dsXlDoHlQN2LUTe3J2153zbHRb37wlW82/o+w81qjvyQxkQ9SVfTmMyXN8T2Du0v9UirpALLch2sqXX8Qm6q6veanGlqkO9DWjjqTrq2xmQ4SWeqmvlGqU93Ca/NKfw4WFrCGoGlDMuV3Ke6WSE3VZxpmhT8gX7bjDvp6hsjU5FIt4K/qWrmNaU+vaSchr8JUYYdNyuRwApWyZ3yvpVx4EyTwBwTiPzexqSq4O+imrnM2W1uQszJjsBSRrC7COv3WLE3VRd//zrN3Fr33d1Jp5v8t7cxqU7SbRulRua8wCG+Rck7PBYZXBkCEFjBqe1XCpBpgMpFMXu7byrN3L7Eufi1LrPECZNm3tBsm5dTLVTkAbEFVvLLnoVrqxrp+3Iqzdx4yq21NPPmFooN/cn2UGB2+HSSnHXNzTb4mYyKPCC+wEroYN1kl/HnDW5rAqSZN4+UzAmDRTvh9+SYGrGNFw3neG9RZd1rgurH1MtiO6pJaSvyZENZPR+4LIw8AAAAEBSuJUoEB+uDD3QG4OmnixZ1M/uoufrMM+X99zXn/a4GDH9Cn322vPfe9O6fa/Zzz5V335UO/nVjnn++vPOO2tBfs6usui+8UN5+exWYYCfx4ovlrbfW4dOpEi+9VN58c1WZ8Muy/N3flX//d7VZN5X94rj8/d+Xf/s3tb6rs7sWJ+RgeaVuYB+bpWQtB2tj8ZphdE7tvrUSFQczR3fodetKn0wzt1xgduBTMHvOZyv1SUWe8CAHyyt1A/vYpA1rOViV/2aU2cBJOjvLve5JOsnkv7bIj3oKhOf88bjbLMsi8Jsn741I8ppDYDlwMkJK+9j1Hoc3YKyblfMknTV2ayfpZrtZ/ZHviZi6c6n4pjcy51XOeeBgpRZYOFiSv6Z7a0dP98c6DVon6SwE3/JJOt3To7NP9vWPe08LrTmXkkNvtgrXpB2dnb4jsJw5GSG38rOfseOHzZ2DNdZp0L12185+Wn7x3biwReBlUB/5GTJlhmld30JTLo6wBjJbhUtASuJgpRZYOFgqv+zOwdr4Wy91pQ/UrVZKyrn9tEx7Ki9sEXv99PxLU5cUXWyhIxdn+OhHqsK1V4LjYKUWWDhYCdkHNqDNhlEPvlYF/+V8mrlMeypPj05qzMBZ1xAxyVl33EIXC86kqZhtsb0ZRhys1AILB8vmM2+wlnrb7+hWMz/XZlP3MFo7STfP5Jg063Qr+LeNss3lbtLQZ1vq7QhrBFYQJ4NtTQN7TbaWl+7vyu3gJN1GGO1kwwyfn5NmXWVjuIdx3hPNUm9TXCKwlIGDpciudRPijO7v6oudoZe3snadpNPNhhk+P2fPuu3GGLmHUSX5L+Ttny6Wehys1AILB8ss+1RzRb6a+WLmEOXGSTqBtThMNkxDC5NXM1fMes7pHcKOwFIGDpZZ9qllinSrmdusK23qJN2kxgwc94b5KVnN3FpFospSn5Ec65MiQ7f2W7YXDQJLGThYLtiH732pKy0Z7c7ID7TWJo17ZcQkK/hbq0hUeWGLR8d6l7C2U/stAzsCSxk4WC7Yh/sZVDPf9Q90vcOBoz9p3CtbqFXB30JFooYrKb041s3CWrf2W4YXDQJLGThY7tiH+BlUM9+1O7fjHXZGTGDcN1qYuSJRg2kdxrG2X/stKjsCK7XACnbBuwz7kL2vzbrSBne01rzDztEXGPeNiJmtSKR+enTSY252uWtuD1W4EFieoPuJcCC77r0Z1sJuP+FXRs0IqFuDE8+yxLG5pxKYeDMiX9/sMMtdcxUu9auxQEaBZeQTobwxkMQ3PmfFu6hSwYUtw1vI4YYZY6o+7hebHXK521WFy87VWCCRwDKS5D62GTUPXhLf+Jzj4q5KhcGEXy5s6XzZCJsKMWZdW7NDLndtVbgMzjpwOnSrot89YOAZeQAAACAmXEuUCA7W55/rDMDDDxct6nVdHnmkfPaZ2szTZb9ugNaj9+ij5fe/X4ePaSUee6x8+umqMuuWZXn88fLJJ2pDf5NdfvSfeKJ8/PE6Y0xr8OST5aOP1GbdU0+VDz9UG/ca9nnz4a//uvznf6r13Sa7zNP3N3/j20MhB8s09XYxnuRnd+1nwzSMqYXgX2whF7bMGNPks+5isxtqv4VZ7nbNuhkrrXC0w4AcLNPUNReTpT1a4jQvwX6Jipqii7on6aaWUZ30shnSwsCz7iJjQ+23MMudrsSpvDcCxBRYaQuNJj9acrPUp3wcklzYUi9xdIW1nZdN85jqPnQ1J169WOYzTu9SU1oy2ggsQ0h7VU79me14fV/Ol/p0vaO1dmFLvcTReuiEC732XxPU08h54952d7vNxXbGgsCtaGZfBAissOrezsZC/k1sx8FSUSTZLmw5yW7NOxTYTPdfE9QTMZlZZ3+56+8LRQeHs/OhMKbA4rLnRcPFseNgzd68anXfVDXzkw1TyYVyXc28s4Xys25DWNtfbAeuBjhY9t8ICKxo6t5RUsLwB8CmgyUWh8zVzDe8Q4FFNkw18wa/zcK4a+XczOh7fV9wsEBSgYWDJbmTs7Nf6d/R9mzEM1czr/EOdZP/5hmZknfS2axmrnK7+SJyE2KlyJA38LjsGYGVUV973FiMylLy6GB1+gcWun81fMZPFS2Wkv/GpuVN8lEqW2hq3O2f3+wfgpNjIS84cLAQWBn1tceNRcO+2ea2Jnw2zAav5WyY2Q7H3siPdbO0fBSD92/aP7858MfPiQyZBxAHC4GVUV/H21h4SUoY2IC2VxfZMGOnk1bk946+VjVz45c32D+/OZxdUvLiYCGwMurreBsLL5vpgQ1oOwpHNkzDvzR4fnNvCy1UMzd4eYPA6V1ri21zexrigIOFwEJgZWGv2UzrHtcX+GXSzAXUjHzkL6ptg8Ja7AEc+1F+b7PDLLYNP7XtHSKwEFgTwSdCRXbFUuMUXdxuufEas80tFIv8SafWYJq52AM4tkTF3maHXGz7E15jrLQILLvAwUq4mV7MFF1cTB7bnupmDYl8cwvFpv3JFlpOM5/9AAq7OAa9Q62fTX4rGgIr4N7CvrS3zz71nWTHwLN8bNtFjdldbpbKuF+30NcjP3b08Q7Nstt3rBFYXoGDZZbdvo/Sye4uzXzI3nd45HeVDlEZ92tSX9kwY+enlne4d0eXcLGd2jzJ2m8ILHPAwfKymY50V4/Hoov2a8zWtFB33J1mwwyZn1olKpp3dAkXW4OHGwwKVgSWj6HCwdLaTC8UXZzzV7olKuyf33Tqo9g/vzlWWKuXt9ViN364Qfh50Rcnq+fOFbLvAAAAgKBwLVEiOFjffbeqiOI7d8q336qNfWz2i8N3773lT39S6/4u9uFT8b77yjffTO/7uWbff3/5+mu1yB+wC6+9DzxQvvpqHTuT6/Hgg+XLL4U6fNzshx4qX3yhNu7D2XeNy69+Vf74R7W+J2d3LU7CfiLkBgMX7D1ZQS66P+l0j4Bpb7wiEec3p+qM5jRzUwvOwDphLPVaOzoEljJqjrBKajtdZemLvScryEX3J+Vmze77drM5v9n2Lw3mHe56AN0tOAOP0LLUx+4jAqtFYM3e5rKtEdjTnBs+KhKJbSuNVySSvPS65/xmfyOFI3/QbO62Z6kH6QSW4sHpkzPP4GbaKfu2B+D6EGXnPNGtSGT82t2pD2DU85s1dPGWu+bytsLfs7jsGYGVUV973Ew7ZT/2APx2v9/P0Kpmbj/ysx/AeXfSecw7TLjcqST/4WAhsDLqa4+baafsF0PtqPv9k8RINXOVvNTtvs9+AGXupPOSd5hwuVNJ/sPBQmBl1NchN9P22a8WtRjdb5sk6n1XvPm4/vzmjBbKFF10l3coMB8M9l3MwMPBQmBl1Ne7NtN7F1m2NdvUF9Wti+63ZeeoD73WIb6l9fzmqEkifH5zcZJ3WNkwF3mH9exjmzSwqESYpR6BpY9IdxHu2ggm39aca4CMuSJZG+a4L9buYZRcgvN4h+QdJlnuLgYHBwuBlVFfzy5Ls73hS76tOdeAGfWHtLp/bj5wD6Pws6Yy7ck7TLLcXQwODhYCC4El/fsXUyJyCqwZi7uR7ntMMx8+PzOnmSsWVR7b94ZJkkdkzHas904SBFZqgRXpE2E/u1j2sdlPhBdXliHBIc28Z3G3/KmINHP1Oe+ivK1T9oYv43wiTC2wAjtYDeyz/QM725r+qzNcp9zaTzOfNAQWbGOte9M608w7m61b3rbmNc+taDN+CoGVWmDhYO1dbgJYOP0N6EzNJs1cZTO9aKSZHz87Wq/bXSUqhj/4uuVtaxrPrWg9c9vsXljimMIAABhGSURBVBqBFUTdB9vWTN3UenSwNv7cV14CaeZac+xkNXNrc95piYpt0rbbP5Ms9VN/EwcrtcDCwWravyxr36Pr3cE6WIh95SUEK1HhtDqJfBpc8vK2U5/osEu9c3YElm8nI+m2pizlz0prU4YZ7fsiW+pzcXKmyWmJil3NthN5mWhrzXm/xQJmGHiZCyXwiTC1wLpV1oTUw9jLlroq5//fYRystg2x/T3lPH+FoouS0Zbvu4vytp0djOFYZ2BHYAVxMthYnJJe6/KTj1VMbWukzzSty41QOBj6n/7Nuqx+Iv+zHz/Vcgfe4eiAC/fdRXnbGR1Mu9RbZvctTtZ1ddx6Rh4AAAAICtcSJYKDtX7/vY68u+ceLWqT7EW2AbfX73/QmW/Lcuue23ev2FXqfN6+ffeHHxqb3r1FvXX7F3d/+FFr4p1iL4Lst+7+cLcn0j0N/8Uvbv34412F6X7FfvvWjyf6LpQkcft2+eEHtRdtJfskJXDPPeX779X6rs7uWpxEEFjL3bsZqQ2xX2VqiT+Eq073y/+/WNalKHR6uWYfukncTLc7joDmnvLn7GVZ1kW0cMMo7VQaNNatojTdr9iPS1Qsa0s32tSt4Tyk2Rl45GAhsPSgaCHqupdW2I9STmQ+3Sp3/+7PX/TF+dCvO/LLDE37G5lxzmbdn1u+q9nGFpxyoy/rbKVleLEt5x+mIdJ2WXQ/kzn+SIfA6gYOlh32q7eFzFJop/ulSK/+k/peOXw2J57HWbe32XYXnFK238Td0qusmn2vZP9pk7L2T4yb7Kqe8YrAyiywcLDssEtWi7LTffkaWZP6Xln7KPPEG/9xdk+z7S44lxq2/llnFf/P+zJPRp6mQ2AhsGzuq+JS22efbSpkNvAE+r7RF8sTb/YQ4B32dLDn41m2xfam2lZ175TZEVjKwMGyyT7bVLDvoyzTrBSBvm8Mn+WJN3sI8A6HTycW24uMd+9qVqPCwUotsHCw7LPPcLPsG3jz1ibhvh8Mn5eJN2MI8A6HTycW2xqJo6hy7uJgZRZYOFj22WcUS/Zl4A3pslbfD+g2Po+amnhOZ90GxXXkVfyMUX1vG5fMi62pAz0AgYXE8ce+d9kN0P3m7yakmU/6NS9p5irXu0j2/ZirUmT4/Sjvgp3PhekEFp8Ig7FvLJEeP1TVd7l+8SLNfNKsc1qiQuatrNL3695VdifGR3m/sw5EE1g4WMHYdVdSle7vTc12lGbuxUcJU6Ji3rtQpe/XpHtFhovDDX7ZsbKyCCwcrFTs1+tmbANve/1ylGbu0UeJlGY+cAg43MBSDxBYotRpT89qsR/vaF0n/Lb9spehn+FmkWY+/E8q++J01jVs3lhs7bAjsPIKrMynZ9W3NdfqVmUI2NE2vL2GjJR63yPNul19iT3nt+cnzztIKrCMSBz5HW3ybc2xupUcAjvHtr1MvFGDpT7txcrJCvR9V19iLzjb8xMHCyQVWBZysOSv+2Vbc9AA4SGwEHwtK6Wz753NNjXthYdgat8v9iXJgnMyDjhYIKnAsnCKcMZXf7Y1uxogXBnIQvC1rJTOvneOlKlpH2nW1ZSoyJByOvZwg5e8Q8tLPQIrqb7uv/20Z+7iYElG23jwJa0UsmFG9cXXrCPldOxMZqlHYDmA0zpY3H4q2YDhZo+14Eumo5ENI/mY2+n7yc+jSRac5HmHoG2ruHqOXaGYLAAAABAUriVKBAdr/eMfdeTdr36lRf0Tu5LELA89tH7xhaa2HtiA/TEsDz64fvmlWt+HsLfOnPLAA+tXX6n1/YEH1q+/VmO///7p7OfHpdx33/rNN2p9H8LePOvuvXf905/U+u6UfcTbody5s377rVrf79xxLU7IwXJLveROiRjVgOYkCb9ZEU6T/6jg773vnQlJnOOTjLappR6BpawzElIvHXmXAfo+qgHNp8D8ZkU4Tf6ruZNOwNAVq+AfbNYtsU6P2mcPc7QCgRXByXC9rdn1XgmzrRnbgL0re4z9dNs210gtdZW3IDchyj9rkfouz96/6yDJPbXASutgdVbhcn2gaXgD9m6vY+yn29wsg7XUZ7xXtPq+MSghZ13l8OFgabUcBwuBxVMntMxFFVh7GUMWXaz8WRfTfpIIU591ktaFYt+PuTK7OJRpQGCpgU+Ek2C53uPCCQNxREozb87099L3GTdHOS31ufh3cSg0isDKqK+5/TTtviph0cXjNHMVD2/G4Yb6jnh55GcUnqXUJy8akE5g4WAJ4HhDnNzBuskuf9W3kTRzlZV3eN93DR8Xtvh93nvigIMFkgosHCwVrnPX4SUMvnzOtbU0c8mhH973XcMXwMVpnp/elzvdVHFeNAgsl8DBUmdX8TMcZcMMD46pvgsbeMJ9Pxi+eI98/fxMuNyFL29rnx2BpQwcLHV2FT+DbBgjfRcefeG+H38ZD3Z6tH74Ei53B8Jaa+hxsBBYGfU125qTez6ZB5JsGINDL7Acc3p0HiwfHLaQd6g19DhYCKyM+hoHq6FVMe7qmZQN46XUZ3OrvFckuviymWpyCB8cPiky0i53sxuAd4jAsggcLEfsYa4gnZQNUxkcKhIZ7LuAgYd7F5L94szBwUJgZdTXOFidf9WzIY4X/NjZMMd/1Tb6ZvsukItG7beQi+3FmYODhcDKqK9xsOZt2tjRBt7R9oy+i75Pytcxdbs8p4YnPftjrwnyHnkEljJwsDyy9+fr5NnRLsbK6A+vSLTLC+EmRPW+NzcDx7qNyLLAUkzLQ2AF19c4WMI7uZw72mWxVUZ/LPtes4ebEJ32vdPVY7E1yK54shKBFW1vkXZTpcJ+8feTnGmq2dG6zobZa/YEmPbN/lZ403qsHmWxnc2OutqeuavnABXMSQAAACAoXEuUCA7W+uGHOvLuqae0qJOzn26AoNouTz65fvSRWt+32SfHoTzxxPrxx2p9f+KJ9ZNP1Ngff1yHvZRlWcpjj62ffqrWdwvsSjvq8uij6+9/r9b33OyuxQk5WG6pl/RHSzjTdFJaCcRBq+9XHUw17cPfhLjHyqAKV9KlHoGl/OAlpF7SF0c5d6Yp7U2IYnHQ6vsVr+6ZJvWbEOW7bGTOD3zN+z2/mXOpR2AhsGC30gAZnWE/+PPiYLnvs0cfYR1gwWmIGEs9SCqw+ESYkL2yAfNOEfsK/tg4eCn1OePdYLzvU4/Nh1xwKiPGUg8QWIMfPDYWlrc1DS5O80B7D/7YOFDq02zfp5YADbngzL79c4ihiIOFwIojsOr3vmxrXDcg/IUtk+IQo+9tZk/IK8ZZ7iaxjzIUcbAQWHH0df2ttDhYrhsQ/sKW4RM+Ut/bRp8rxlnuZFYYIo/AMgHFa3fZ0oVpQMILWxomfNS+149+5vupWO6mPlYs9QgsixC+dnfszOP2UyMNSHhhS/Mvh3dxZrwjXTx0Ncud1v0ZOa8JGi5x3OUdIrCU4fcUIbefOmrAwWCxm8/DflNaJS/1qfi6Zc4PX8S8LPUIrMi7Oi/bGtc3/tpvACUf6xfcqXGQ73uNsM5Q3nbG0QovfQ+Zd4jAQmCZHn5Tzm2qu2IW7Qtbako+ht9Pqxz+sODiaA29HR+lX1DujRgO1ox1zMVeGoGVdG8xr7hwz1OXYTO9cGGLgcjPKzNmtu+V5W1jj/vwllB0UJ7dS1kWBJYyqOR+sFRl2Exb3lMKDAG11G32fXYiPFW4WG2ysSOwlMFdhHubFKC4sOU9pcDdcNRSt9n3qYXUF3yUyY9Vqsg7WuoRWEn1tf3N9LwHBgdr4O489o527FT00vcZdWvDV+GqD1GqlFMcLARWRn3tfTPttwqXi13dPCuLmxDt972tnRlq6Lf9fuaUUxwsBFZGfe13Y9FvruBg7Q34wHUq2I52V3AC7+YvxgEfZepjReRtLvUIrKT62u/Goj9ZBAdr+L+P5+LMCE7g3fzFH797V62Q+uI25bRT8oafdcbZPaOsnmNXFNcaAAAAAMxVd44lSgQHa33zTR1599JLWtRW2PUEbnnxxfWtt8Kybwa2vPDC+vbban1XZ3/nHTX255+3xS74AJbnnlvffVet7xbYlZa78uyz63vvqfVdm921OCEHyy31YqCkdaSLO+yw16SVkBGSnF3l5mmWO+Y8SCewyMEy+9QFu5NOhr3hfCITL9usm11wi1lnQWSQAYbAQmDB3vVvmld8lnstnWE88sy6Sb9wPOskv5olfN6vSXGwEFgZh5+vFf375uaVi+Bvx5YLW2YEJ9Ks2yuPjoMmKTuSf6BMy47AUgYOln32GaYCwa9sSbDrlsdOvMyzbu+vbd+/yXKHuAQBBRYOlnf2toxdgl8Z21TXLe+deMy6TnaxdHsij8BCYOXaW2CiKP4URRdH/cu0Lk7bTYjMuiFNwrGGHYHlADhYkdh3VTPn4PSQwOLiMOuGsM+435rFdsHBQmDl1NdsaxR/9uCxF/YV3AV/oJUVb+Ix64awT3WzWGxzsiOwlIGDlXNbQ9HFsahPSGLa740Ys25bWtWEkVmXdqlHYCXV12xrLDRgat2jPMHHxdnLLl/tk1knGW0WWyNLPQIrqb5mW2OtAWJFoWIHf/uddBBMXByxfG1mnZY+YKkHSQUWDlbObU3zmSZ2tJ2/Tz2kUU3iJN2QWTcv4Cy2Cw5WcoGFg5VzW9N8ko4d7Qx26iE1zEZO0omxd85PIg+SCiwcrJzbGk7SmWLHOxT4Kapwaf15m8gYNVg4WAisjPqabY33HW3zasLQN7xU8A47X8NU4ZKMdv/UHTVYOFgIrIz6Ghsj9o52tlYIOfSzrSxO0g0JY9rIN98bIa/qWG0QWPrAwcq5rZnagIsZGwx9T2x7lmwiv1D7zRV7f700HCwEVkZ9jY0RtQEXf5xsmKl/jne4zS5fgovIK7Y8gMBSXC31UFbP7l9JOWYAAABABriWKBEcrPXll3Xk3W9/q0WdnN1i9wW1fnnjjfWVV9T6Lsz+88CW119fX31Vre/B2PdM2vLaa+trr6n1HfYw7Ltmnd7jhsD6MxQNTDxzut/ZGCbeXq7K532S5I0U+YFVuHIWmIXd44sDgSUtsJqTEMn6pPudmp6JN4N93jXMRF4y2kQedgSWMvqfbTvlfXdtBHGwws86sasVg0W+rYU1Tx+Rl2+VypFJxt3OUo/ACqKv1a8G2/WDOFhh2PcKKfbTWjsWIj9w/dw1LkQ+7VKPwAqir+1cDcZmOlX397pZ7KdnNxXvsIF9avOuFlutk+OMO0gqsOIVGq3MacDBSsJ+/ImE/bRktHnoLLBfjYjWy55xB0kFVrxCowOvw5u34cPBUuTiJJ3W73OSLtVr/npMcbBAUoEV+Kqc7SV7Xravi21Nzl3droRfTtINfwA3QspJOjF2sQ+F12NK5EFSgRX4qpzmzbTADhsHS5G3YckbOPp4h8LPWvI5f8wu3xKuxgJJBRaXPVcu92OfExwsL+zDR5/ICz9rRH4xkAGmqDNwsBBYGfW1l43F2HZaKEvDbn7sP6YA2yj2Gc8akV9SZoANZ/d4bwQCSxk4WJK4PuGIgxWGfW8lbiIv86Adv9uIPOzyu2IcrNQCCwdLhVS3LA27+Xm/dnFMibwWEZGHfdQv1C/dOFipBRYOluIzT15CJPbKbS6RF8b1u5DIwy72mBvpOwJLGThYvp75UaYXO1qtnz0eekkjE9t4lFwj8jnZ7VxYgsByABwsR+x7030Ivn32gWNK5Keydx5PIfKwg3QCCwfLEfvedB+Cb5994JgS+ansnSNF5GEHCCzmvRv2th+xUCcCdoG2nVQARF7r1yhvCztIJ7D4RJiK3UidCNhnj/K5lZ3Iu2CnvC3sCKwIncDBSsXelvA7/LsVQ69FsT3ufKA0wj68qZnvtsfB8omyeo5dUSzCBAAAAIC56s6xRIngYK2/+Y2OvPvd77Sok7P3NqBbl5cPPlifflqt77BLDfTh773//vrMM2p9h132Mf/pl957b332WbW+52Z3LU7IwXJLvaT/MK9bJ4KhN84+qXgEkbfPHu9ue3KwEFhqIAcrIfsyqE5Ez6LDNUGW2ScdZiTy9tnDCOvriUcOFgIro75mW5O2AevKNUEp2A+cMCIPu5i0GlvB3+9Sj8BKqq/ZUKZtwHE1c4Y+JPt2VVUiDzuzDkQWWDhYObc1RrqvUvWUiSePq4Em8rDDDhIJLBysnNsaI91vbgbXBPliH1vetm30Gfec7AgsBFbG4WdbQ/ebX649SzYTzy97z+gTedgRWAisLHsLtnR0v/9vG8wMJp5f9p7RJ/KwJ1zqEVhJ9TXbGrrfibZyTUy8GOx7R5/Iw55wqUdgJdXXbGvovsrvnFvyZA4zMu21fm3Iq655kjDusIN0AgsHK+e2huAfvzVllkIi75S9c5IQedhBOoGFg5VzW0PwN/6XqVYWkXfKfvznZIDBbn+pR2Al1ddsa+i+QfZJ1/AR+UjsDW4WkYcdpBNYOFg5tzUEX6BtJx0OIh+A3c7RikoXjXFPu9QjsBBYsNP9gOwniZpftEM+XDLuwdgrf9a4i8NHeRBTYPGJMCE7wZfH9SukecEdslIz7lHZtzWKcZHBR3kQU2DhYOXc1hB8LdJR1cyJPOz1v+9IZAx3s3CwEFgZ9TXbWboPe4O64pog2EOyT6qWgoOFwEJgzdq+sK2h+5HYO/+cbBjYzbJPaiQCyyfK6tn9K2JSBgAAAADSytaxRIngYK2//rWOvPvDHy5TT5OA5fPP14cfVpO2quzJuw/7rk3YSPbPPlsfeUSt77DDno/dtTjhE+FMauo9Bm4A7MbZyYaBHfYYSz0CSxNmTxHObljPvO/f2ZODBbtldq1sGDLAYIcdxBFYnCJsUFf9zwwOFuywH0srTGvYYQdxBBZ1sDr/sG3PjYMFO+zDHysiDzvsCCxDwMHqQbObhYMFO+zDHysiDzvsCCxDwMFS+RHdDDD2lLBbZjdeD8mjaQ17TnYEljJwsByxD8xTIfiwwy75ABJ52EE6gYWD5Yh9YJv7L2xh6GHPxh74kiLOb4ZkR2ApAwfL9WZa67GffWELQw+7ZfaGp8/4a57zmyHZEVjKwMFKuJleyEeBHXbZn/Lymuf8ZiR2BBYCC3bHDdDKR+l5DTDxYIddsp04WCCpwOITYc6nzm/3+zP9mXiwww47AguBFXlfxYaS7vf/bbxsGNhhhx12BFaETuBg5dzWxOh+W0VKJh7ssMOeZKlHYCXV12xr6L7K74gteSfdNaY97LDDDlIILBysnNsagi8grU6urUQedthhBykEFg5Wzm0NwZekuGllEXnYYYcdpBBYOFg5tzUEXwwHiWJEHnbYYQcpBBYOVs5tDcHXorO/3M+7NYVZBzvsoHJnunqOXZl6+RQAAAAANNWdY4kSwcFaf/lLHXn33Xda1MnZCT7su/Zhw9i//Xa9c0et77DDno/dtTghB8st9UIOFsGHvUJajd0BE3nYYQeJBBY5WAnZCT7sKu0MU96WWQe7l6UegZVUX7Otofuww+6IvcfVI/Kwg3QCCwcr57aG4MMOu+QvIDJgB+kEFg5WzqeO4MMOew/2fihE2sIO0gksHKycTx3Bhx12yV9D2sIO0gksHKycTx3Bhx122GFHYCGwYu4p2UzTfdhhhx122AECi3mPwIIddthhhx2BhcCqAJ8IE7ITfNhhhx32DEs9AiupvmZbQ/dhhx122GEHMQUWDlbObQ3Bhx122GEPv9QjsJLqa7Y1dB922GGHHXYQU2DhYOXc1hB82GGHHfbwSz0CK6m+ZltD92GHHXbYYQcxBRYOVs5tDcGHHXbYYQ+/1COwkuprtjV0H3bYYYcddhBTYOFg5dzWEHzYYYcd9vBLvVuU1bM4LXtvgwcAAACAE7iWKLcYPwAAAACAsfDtYAEAAAAAGAQOFgAAAAAAAgsAAAAAAIEFAAAAAJAKt7N1mIOHAAAAgApSpX3fTjjApaylLFf/WZbl+v8e+F8n/azYf6X9tN9s+5d1/ek/k/6rDAvtp/3J2p/N3uATIQAAAAAAAgsAAAAAAIEFAAAAAIDAAgAAAAAACCwAAAAAAAQWAAAAAAACCwAAAAAAILAAAAAAADSQsdDoupZMtWQBAAAAgMCSEFjIKwAAAEAU2a6q4xMhAAAAAAACCwAAAAAAgQUAAAAAgMACAAAAAADtKGR8AwAAAACMRS4Hq5SS7RQDAAAAYOQVjMAKO7Truq7risYCAAAAUFcILAAAAAA4RsJ8JAQWAAAAAAACCwAAAAAAgQUAAAAAkAqJ7iK8Tm+nMgUAAAAApoI6WAAAAAAAg8EnQgAAAAAABBYAAAAAgG38H2vwCHC/8j0FAAAAAElFTkSuQmCC'>"
      ],
      "text/plain": [
       "<IPython.core.display.HTML object>"
      ]
     },
     "execution_count": 11,
     "metadata": {},
     "output_type": "execute_result"
    }
   ],
   "source": [
    "figtemp = glucifer.Figure( figsize=(800,400) )\n",
    "figtemp + glucifer.objects.Surface( mesh, temperatureField, colours=\"blue white red\" )\n",
    "figtemp + glucifer.objects.Mesh( mesh )\n",
    "figtemp.show()"
   ]
  },
  {
   "cell_type": "markdown",
   "metadata": {},
   "source": [
    "System setup\n",
    "-----\n",
    "\n",
    "**Setup a Stokes system**\n",
    "\n",
    "For most geodynamics problems the motion of the fluid is well described by [incompressible Stokes equations](https://en.wikipedia.org/wiki/Navier%E2%80%93Stokes_equations). In underworld setting up such as system requires the velocity field, pressure, viscosity and buoyancy forces be passed to the Stokes system function. Along with the conditions affecting these variables - in this case the boundary conditions for the velocity field.\n",
    "\n",
    "This system is solved after each time step using the .solve function (see main loop below)."
   ]
  },
  {
   "cell_type": "code",
   "execution_count": 12,
   "metadata": {
    "collapsed": false
   },
   "outputs": [],
   "source": [
    "stokesPIC = uw.systems.Stokes( velocityField = velocityField, \n",
    "                               pressureField = pressureField,\n",
    "                               conditions    = [freeslipBC,],\n",
    "                               viscosityFn   = viscosity, \n",
    "                               bodyForceFn   = buoyancyFn )"
   ]
  },
  {
   "cell_type": "markdown",
   "metadata": {},
   "source": [
    "**Create an advective diffusive system**\n",
    "\n",
    "For the heat transport in the system the advection diffusion equation is solved for the temperature field. This is used in tandem with the Stokes system, which solves for the velocity field given the temperature and pressure fields (above). More information on the advection diffusion equation can be found [here](https://en.wikipedia.org/wiki/Convection%E2%80%93diffusion_equation).\n",
    "\n",
    "Similar to the Stokes system, the advection diffusion system is setup in underworld by flagging the temperature and velocity field variables as well as the temperature boundary conditions."
   ]
  },
  {
   "cell_type": "code",
   "execution_count": 13,
   "metadata": {
    "collapsed": false
   },
   "outputs": [],
   "source": [
    "advDiff = uw.systems.AdvectionDiffusion( temperatureField, temperatureDotField, velocityField, diffusivity=1., conditions=[tempBC,] )"
   ]
  },
  {
   "cell_type": "markdown",
   "metadata": {},
   "source": [
    "Main time loop\n",
    "-----\n",
    "\n",
    "The main time stepping loop begins here. Before this the time and number of timesteps are initialised to zero. For this particular example the simulation is run for long enough to see convection beginning.\n"
   ]
  },
  {
   "cell_type": "code",
   "execution_count": 14,
   "metadata": {
    "collapsed": false
   },
   "outputs": [],
   "source": [
    "time = 0.\n",
    "step = 0\n",
    "steps_end = 10\n",
    "while step < steps_end:\n",
    "    # Solve for the velocity field given the current temperature field.\n",
    "    stokesPIC.solve()\n",
    "    # Retrieve the maximum possible timestep for the AD system.\n",
    "    dt = advDiff.get_max_dt()\n",
    "    if step == 0:\n",
    "        dt = 0.\n",
    "    # Advect using this timestep size   \n",
    "    advDiff.integrate(dt)\n",
    "    step += 1"
   ]
  },
  {
   "cell_type": "markdown",
   "metadata": {},
   "source": [
    "**Plot final temperature field**"
   ]
  },
  {
   "cell_type": "code",
   "execution_count": 15,
   "metadata": {
    "collapsed": false
   },
   "outputs": [
    {
     "data": {
      "text/html": [
       "<img src='data:image/png;base64,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'>"
      ],
      "text/plain": [
       "<IPython.core.display.HTML object>"
      ]
     },
     "execution_count": 15,
     "metadata": {},
     "output_type": "execute_result"
    }
   ],
   "source": [
    "figtemp = glucifer.Figure(figsize=(800,400))\n",
    "figtemp + glucifer.objects.Surface(mesh, temperatureField, colours=\"blue white red\")\n",
    "figtemp + glucifer.objects.Mesh(mesh)\n",
    "figtemp.show()"
   ]
  },
  {
   "cell_type": "markdown",
   "metadata": {},
   "source": [
    "**Overlay with velocity field**\n",
    "\n",
    "To show the convective motion of the fluid we overlay the velocity field over the previous temperature field plot."
   ]
  },
  {
   "cell_type": "code",
   "execution_count": 16,
   "metadata": {
    "collapsed": false
   },
   "outputs": [
    {
     "data": {
      "text/html": [
       "<img src='data:image/png;base64,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'>"
      ],
      "text/plain": [
       "<IPython.core.display.HTML object>"
      ]
     },
     "execution_count": 16,
     "metadata": {},
     "output_type": "execute_result"
    }
   ],
   "source": [
    "# plot figure\n",
    "figWithV = glucifer.Figure(figsize=(800,400))\n",
    "figWithV + glucifer.objects.Surface(mesh, temperatureField, colours=\"blue white red\")\n",
    "figWithV + glucifer.objects.VectorArrows(mesh, velocityField, arrowHeadSize=0.2, lengthScale=0.2)\n",
    "figWithV.show()"
   ]
  },
  {
   "cell_type": "code",
   "execution_count": null,
   "metadata": {
    "collapsed": true
   },
   "outputs": [],
   "source": []
  }
 ],
 "metadata": {
  "kernelspec": {
   "display_name": "Python 2",
   "language": "python",
   "name": "python2"
  },
  "language_info": {
   "codemirror_mode": {
    "name": "ipython",
    "version": 2
   },
   "file_extension": ".py",
   "mimetype": "text/x-python",
   "name": "python",
   "nbconvert_exporter": "python",
   "pygments_lexer": "ipython2",
   "version": "2.7.6"
  }
 },
 "nbformat": 4,
 "nbformat_minor": 0
}
