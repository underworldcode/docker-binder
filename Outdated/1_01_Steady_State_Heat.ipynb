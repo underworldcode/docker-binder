{
 "cells": [
  {
   "cell_type": "markdown",
   "metadata": {},
   "source": [
    "Steady state heat equation\n",
    "======\n",
    "\n",
    "This notebook is intended to give a quick overview of how to run underworld using ipython notebooks. It is the beginning of a series of tutorials which will increase in functionality. By the end of these tutorials the user should be able to tackle the more complex notebooks available in the **publications** directory. For more simple and specific infomation about the functionality of underworld the user is directed to the **user_guide** directory.\n",
    "\n",
    "Specifically this notebook will setup and solve the steady state heat equation given by\n",
    "\\\\[\n",
    "\\nabla(k\\nabla)T = h\n",
    "\\\\]\n",
    "where $k$ is the conductivity, T is the temperature field (solved for) and $h$ is any additional heating term. \n",
    "\n",
    "**This lesson introduces the concepts of:**\n",
    "1. Basics of underworld\n",
    "2. Setting up the mesh\n",
    "4. Setting boundary conditions\n",
    "5. Solving the heat equation\n",
    "6. Plotting physical quantities on the mesh\n",
    "\n",
    "**Keywords:** initial conditions, boundary conditions, heat equation, mesh basics"
   ]
  },
  {
   "cell_type": "code",
   "execution_count": 1,
   "metadata": {
    "collapsed": false
   },
   "outputs": [],
   "source": [
    "import underworld as uw\n",
    "from underworld import function as fn\n",
    "import glucifer"
   ]
  },
  {
   "cell_type": "markdown",
   "metadata": {},
   "source": [
    "Setup parameters\n",
    "-----\n",
    "\n",
    "Set physical values for test. Particularly the number of dimensions for the simulation (*dim*), simulation resolution (*res*) and simulation box height and lengths."
   ]
  },
  {
   "cell_type": "code",
   "execution_count": 2,
   "metadata": {
    "collapsed": false
   },
   "outputs": [],
   "source": [
    "# Set number of dimensions.\n",
    "dim = 2\n",
    "# Set simulation box size.\n",
    "boxHeight = 1.0\n",
    "boxLength = 2.0\n",
    "# Set min/max temperatures.\n",
    "tempMin = 0.0\n",
    "tempMax = 1.0\n",
    "# Set the resolution.\n",
    "res = 4"
   ]
  },
  {
   "cell_type": "markdown",
   "metadata": {},
   "source": [
    "Create mesh and finite element variables\n",
    "------\n",
    "\n",
    "Create mesh object. These store the indices and spatial coordiates of the grid points on the mesh."
   ]
  },
  {
   "cell_type": "code",
   "execution_count": 3,
   "metadata": {
    "collapsed": false
   },
   "outputs": [],
   "source": [
    "mesh = uw.mesh.FeMesh_Cartesian( elementType = (\"Q1/dQ0\"), \n",
    "                                 elementRes  = (res, res), \n",
    "                                 minCoord    = (0., 0.), \n",
    "                                 maxCoord    = (boxLength, boxHeight))"
   ]
  },
  {
   "cell_type": "markdown",
   "metadata": {},
   "source": [
    "More information on meshes can be found in the user guide **02_Meshing.ipynb**."
   ]
  },
  {
   "cell_type": "markdown",
   "metadata": {},
   "source": [
    "Create Finite Element (FE) variables for the temperature field (see user guide **03_FEVariables.ipynb**). This is a scalar field, so it only needs one value at each mesh point."
   ]
  },
  {
   "cell_type": "code",
   "execution_count": 4,
   "metadata": {
    "collapsed": false
   },
   "outputs": [],
   "source": [
    "temperatureField = uw.fevariable.FeVariable( feMesh=mesh, nodeDofCount=1 )"
   ]
  },
  {
   "cell_type": "markdown",
   "metadata": {},
   "source": [
    "Initialise data on the temperature field to equal zero."
   ]
  },
  {
   "cell_type": "code",
   "execution_count": 5,
   "metadata": {
    "collapsed": false
   },
   "outputs": [],
   "source": [
    "temperatureField.data[:] = 0."
   ]
  },
  {
   "cell_type": "markdown",
   "metadata": {},
   "source": [
    "Set boundary conditions\n",
    "----------"
   ]
  },
  {
   "cell_type": "markdown",
   "metadata": {},
   "source": [
    "First we need to decide where the boundary conditions should be applied. Underworld includes functions for listing special sets of vertices on the mesh. To see the list of them run the following command."
   ]
  },
  {
   "cell_type": "code",
   "execution_count": 6,
   "metadata": {
    "collapsed": false
   },
   "outputs": [
    {
     "data": {
      "text/plain": [
       "['MaxI_VertexSet',\n",
       " 'MinI_VertexSet',\n",
       " 'AllWalls',\n",
       " 'AllWalls_VertexSet',\n",
       " 'MinJ_VertexSet',\n",
       " 'MaxJ_VertexSet',\n",
       " 'Empty']"
      ]
     },
     "execution_count": 6,
     "metadata": {},
     "output_type": "execute_result"
    }
   ],
   "source": [
    "mesh.specialSets.keys()"
   ]
  },
  {
   "cell_type": "markdown",
   "metadata": {},
   "source": [
    "We wish to set the temperature at the bottom of the domain to have the maximum temperature, and the temperature across the top to have the minimum temperature. \n",
    "\n",
    "Note that by convention, where the mesh has a resolution (I,J), we consider that I is the resolution is in the x direction and J is the resolution in the y direction. The vertices across the bottom of the domain are therefore contained within minimum 'J' set, and those across the top are in maximum 'J' set. \n",
    "\n",
    "Let's walk through these vertices, and set the values accordingly using the 'data' handle. "
   ]
  },
  {
   "cell_type": "code",
   "execution_count": 7,
   "metadata": {
    "collapsed": false
   },
   "outputs": [],
   "source": [
    "for index in mesh.specialSets[\"MinJ_VertexSet\"]:\n",
    "    temperatureField.data[index] = tempMax\n",
    "for index in mesh.specialSets[\"MaxJ_VertexSet\"]:\n",
    "    temperatureField.data[index] = tempMin"
   ]
  },
  {
   "cell_type": "markdown",
   "metadata": {},
   "source": [
    "**Flag boundaries as Dirichlet**\n",
    "\n",
    "Again using sets, we construct sets for the horizontal walls which we will use to construct conditions on the system. Note that these sets employ python operator overloading so they can be added together by simply using the '+' operator."
   ]
  },
  {
   "cell_type": "code",
   "execution_count": 8,
   "metadata": {
    "collapsed": false
   },
   "outputs": [],
   "source": [
    "jWalls = mesh.specialSets[\"MinJ_VertexSet\"] + mesh.specialSets[\"MaxJ_VertexSet\"]"
   ]
  },
  {
   "cell_type": "markdown",
   "metadata": {},
   "source": [
    "Underworld needs to know which vertices you wish to have fixed values on, i.e. which vertices should be flagged as conditions on the system. We are effectively telling the solver that for flagged vertices, the values are already known and it should not modify them (although it will certainly read and use them).\n",
    "\n",
    "We use the DirechletCondition object to achieve this. This conditions object will be passed into the solver below."
   ]
  },
  {
   "cell_type": "code",
   "execution_count": 9,
   "metadata": {
    "collapsed": true
   },
   "outputs": [],
   "source": [
    "tempBC = uw.conditions.DirichletCondition( variable      = temperatureField, \n",
    "                                           nodeIndexSets = (jWalls,) )"
   ]
  },
  {
   "cell_type": "markdown",
   "metadata": {},
   "source": [
    "For more information on setting boundary conditions in underworld, see the user guide **06_Systems.ipynb**."
   ]
  },
  {
   "cell_type": "markdown",
   "metadata": {},
   "source": [
    "**Plot initial conditions for temperature**\n",
    "\n",
    "We use the gLucifer visualisation engine to render the temperature field and overlay it with the mesh."
   ]
  },
  {
   "cell_type": "code",
   "execution_count": 10,
   "metadata": {
    "collapsed": false,
    "scrolled": false
   },
   "outputs": [
    {
     "data": {
      "text/html": [
       "<img src='data:image/png;base64,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'>"
      ],
      "text/plain": [
       "<IPython.core.display.HTML object>"
      ]
     },
     "execution_count": 10,
     "metadata": {},
     "output_type": "execute_result"
    }
   ],
   "source": [
    "figtemp = glucifer.Figure( figsize=(800,400) )\n",
    "figtemp + glucifer.objects.Surface( mesh, temperatureField, colours=\"blue white red\" )\n",
    "figtemp + glucifer.objects.Mesh( mesh )\n",
    "figtemp.show()"
   ]
  },
  {
   "cell_type": "markdown",
   "metadata": {},
   "source": [
    "For more information on visualising data using ``gLucifer`` see the user guide **08_VisualisationWithgLucifer.ipynb**."
   ]
  },
  {
   "cell_type": "markdown",
   "metadata": {},
   "source": [
    "System setup\n",
    "-----\n",
    "\n",
    "**Setup a heat equation solver**\n",
    "\n",
    "The steady state heat equation is given by\n",
    "\\\\[\n",
    "\\nabla(k\\nabla)T = h\n",
    "\\\\]\n",
    "where $k$ is the conductivity, T is the temperature field (solved for) and $h$ is any additional heating term. See [here](https://en.wikipedia.org/wiki/Heat_equation) for more information on the heat equation.\n",
    "\n",
    "To setup the heat equation using underworld the temperature field, conductivity and boundary conditions are passed to a system function (next cell). The system is then solved using the solve() method (see main loop below)."
   ]
  },
  {
   "cell_type": "code",
   "execution_count": 11,
   "metadata": {
    "collapsed": false
   },
   "outputs": [],
   "source": [
    "heatequation = uw.systems.SteadyStateHeat(temperatureField=temperatureField, conductivityFn=1.0, conditions=[tempBC,])"
   ]
  },
  {
   "cell_type": "markdown",
   "metadata": {},
   "source": [
    "Solving\n",
    "-----\n",
    "\n",
    "Solving the heat equation system setup above is done by the following commands.\n"
   ]
  },
  {
   "cell_type": "code",
   "execution_count": 12,
   "metadata": {
    "collapsed": false
   },
   "outputs": [],
   "source": [
    "heatsolver=uw.systems.Solver(heatequation)\n",
    "heatsolver.solve()"
   ]
  },
  {
   "cell_type": "markdown",
   "metadata": {},
   "source": [
    "More information on systems and how to solve them can be found in user guide **06_Systems.ipynb** and in subsequent tutorial notebooks."
   ]
  },
  {
   "cell_type": "markdown",
   "metadata": {},
   "source": [
    "Plot final temperature field\n",
    "-----\n",
    "\n",
    "The resulting temperature field has been loaded into the temperatureField variable. Let's visualise the results."
   ]
  },
  {
   "cell_type": "code",
   "execution_count": 13,
   "metadata": {
    "collapsed": false
   },
   "outputs": [
    {
     "data": {
      "text/html": [
       "<img src='data:image/png;base64,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'>"
      ],
      "text/plain": [
       "<IPython.core.display.HTML object>"
      ]
     },
     "execution_count": 13,
     "metadata": {},
     "output_type": "execute_result"
    }
   ],
   "source": [
    "figtemp = glucifer.Figure( figsize=(800,400) )\n",
    "figtemp + glucifer.objects.Surface( mesh, temperatureField, colours=\"blue white red\" )\n",
    "figtemp + glucifer.objects.Mesh( mesh )\n",
    "figtemp.show()"
   ]
  },
  {
   "cell_type": "code",
   "execution_count": null,
   "metadata": {
    "collapsed": true
   },
   "outputs": [],
   "source": [
    "    "
   ]
  }
 ],
 "metadata": {
  "kernelspec": {
   "display_name": "Python 2",
   "language": "python",
   "name": "python2"
  },
  "language_info": {
   "codemirror_mode": {
    "name": "ipython",
    "version": 2
   },
   "file_extension": ".py",
   "mimetype": "text/x-python",
   "name": "python",
   "nbconvert_exporter": "python",
   "pygments_lexer": "ipython2",
   "version": "2.7.6"
  }
 },
 "nbformat": 4,
 "nbformat_minor": 0
}
